{
 "cells": [
  {
   "cell_type": "markdown",
   "id": "d21d6fdb",
   "metadata": {},
   "source": [
    "<h1><center>Sentiment Analysis - Understanding Binary Linear Classifiers </center></h1>\n",
    "<h1><center>Understanding how a sentiment analysis algorithm works</center></h1>\n",
    "<h1><center>Rodrigo Medina </center></h1>\n",
    "<h1><center>Based in Materials from Stanford Course <br><br> XCS221  Artificial Intelligence</center>\n",
    "<h1><center>November 2022</center></h1>\n",
    "<br>\n"
   ]
  },
  {
   "cell_type": "markdown",
   "id": "35a0edf1",
   "metadata": {},
   "source": [
    "# Index\n"
   ]
  },
  {
   "cell_type": "markdown",
   "id": "ff65cd2c",
   "metadata": {},
   "source": [
    "### 1.Intro\n",
    "***\n",
    "\n",
    "### 2.Description of Functions\n",
    "***\n",
    "\n",
    "### 3.Methodology\n",
    "***\n",
    "\n",
    "### 4.Implementation\n",
    "***\n",
    "\n"
   ]
  },
  {
   "cell_type": "markdown",
   "id": "6a80132f",
   "metadata": {},
   "source": [
    "<h1><center> 1. Intro</center></h1>\n",
    "\n",
    "<h2><center>Binary classifiers in Sentiment Analysis Algorithms</center></h2>\n",
    "<br>\n",
    "      <br>"
   ]
  },
  {
   "cell_type": "markdown",
   "id": "83fab7c3",
   "metadata": {},
   "source": [
    "<left> This project will explain the process of building a binary linear classier that reads movie reviews and guesses whether they are positive or negative. <br> </left>\n",
    "\n",
    "     \n",
    "<left>The goal of the project is to understand the funcitons that make the binary classifier algorithm. Each function will be explained with sample examples in order to explain their functionality.<br>  <br> </left>\n",
    "\n",
    "\n",
    "\n",
    "\n",
    "\n"
   ]
  },
  {
   "cell_type": "markdown",
   "id": "16a99dd9",
   "metadata": {},
   "source": [
    "<h1><center>2.Description of Functions</center></h1>\n",
    "<p><left><b>Function List:</b></left></p>\n",
    "\n",
    "- Extract Word Features<br>\n",
    "- Vector Dot Proudct<br>\n",
    "- Vector Increment<br>\n",
    "- Gradient Descent<br>\n",
    "- Sthocastic Gradient Descent<br>\n",
    "- Learn Predictor<br>\n",
    "\n",
    "<br>\n",
    "      <br>"
   ]
  },
  {
   "cell_type": "markdown",
   "id": "e7cbeb36",
   "metadata": {},
   "source": [
    "###    <Center> Package Loading and Initial Configurations   </Center> \n",
    "***\n",
    "\n",
    "<br>"
   ]
  },
  {
   "cell_type": "code",
   "execution_count": 43,
   "id": "aad5076d",
   "metadata": {
    "scrolled": true
   },
   "outputs": [],
   "source": [
    "import random\n",
    "import collections\n",
    "import math\n",
    "import sys\n",
    "import pandas as pd"
   ]
  },
  {
   "cell_type": "markdown",
   "id": "c91c0672",
   "metadata": {},
   "source": [
    "###    <h2><center> Function 1: Extract Word Features</center></h2>\n",
    "***\n",
    "\n",
    "<br>"
   ]
  },
  {
   "cell_type": "markdown",
   "id": "ab8105c9",
   "metadata": {},
   "source": [
    "The extract word features function will take a text sentence as an input and will create a dictionary from the words of this sentence, the words will be the dictionary keys and the values will be how many times the word is in the sentence."
   ]
  },
  {
   "cell_type": "code",
   "execution_count": 51,
   "id": "d814d1cd",
   "metadata": {},
   "outputs": [],
   "source": [
    "def extractWordFeatures(x):\n",
    "    features = collections.defaultdict(int)\n",
    "    for word in x.split():\n",
    "        features[word] += 1\n",
    "    return features\n",
    "    "
   ]
  },
  {
   "cell_type": "code",
   "execution_count": 52,
   "id": "b21fe3f1",
   "metadata": {},
   "outputs": [],
   "source": [
    "Sentence_1 = 'This is a sample sentence where the word car is repeated twice, car , and the word people is repeated three times people , people are there any other words repeated twice or more times?'\n",
    "Sentence_2 = 'This is another sentence example in which some other words will be repeated , like the word blue , blue will be repeteaed two times, how many more words are repeated in this sentence?'"
   ]
  },
  {
   "cell_type": "code",
   "execution_count": 53,
   "id": "5133cbc7",
   "metadata": {},
   "outputs": [
    {
     "name": "stdout",
     "output_type": "stream",
     "text": [
      "Sentence_1\n",
      "\n",
      "This is a sample sentence where the word car is repeated twice, car , and the word people is repeated three times people , people are there any other words repeated twice or more times?\n",
      "\n",
      "Sentence_2\n",
      "\n",
      "This is another sentence example in which some other words will be repeated , like the word blue , blue will be repeteaed two times, how many more words are repeated in this sentence?\n"
     ]
    }
   ],
   "source": [
    "print('Sentence_1')\n",
    "print()\n",
    "print(Sentence_1)\n",
    "print()\n",
    "print('Sentence_2')\n",
    "print()\n",
    "print(Sentence_2)"
   ]
  },
  {
   "cell_type": "code",
   "execution_count": 54,
   "id": "96c42c41",
   "metadata": {},
   "outputs": [
    {
     "name": "stdout",
     "output_type": "stream",
     "text": [
      "Sentence_1 Word Dictionary\n",
      "\n",
      "defaultdict(<class 'int'>, {'This': 1, 'is': 3, 'a': 1, 'sample': 1, 'sentence': 1, 'where': 1, 'the': 2, 'word': 2, 'car': 2, 'repeated': 3, 'twice,': 1, ',': 2, 'and': 1, 'people': 3, 'three': 1, 'times': 1, 'are': 1, 'there': 1, 'any': 1, 'other': 1, 'words': 1, 'twice': 1, 'or': 1, 'more': 1, 'times?': 1})\n",
      "\n",
      "Sentence_2 Word Dictionary\n",
      "\n",
      "defaultdict(<class 'int'>, {'This': 1, 'is': 1, 'another': 1, 'sentence': 1, 'example': 1, 'in': 2, 'which': 1, 'some': 1, 'other': 1, 'words': 2, 'will': 2, 'be': 2, 'repeated': 2, ',': 2, 'like': 1, 'the': 1, 'word': 1, 'blue': 2, 'repeteaed': 1, 'two': 1, 'times,': 1, 'how': 1, 'many': 1, 'more': 1, 'are': 1, 'this': 1, 'sentence?': 1})\n"
     ]
    }
   ],
   "source": [
    "print('Sentence_1 Word Dictionary')\n",
    "print()\n",
    "Sentence_1_dictionary = extractWordFeatures(Sentence_1)\n",
    "print(Sentence_1_dictionary)\n",
    "print()\n",
    "print('Sentence_2 Word Dictionary')\n",
    "print()\n",
    "Sentence_2_dictionary = extractWordFeatures(Sentence_2)\n",
    "print(Sentence_2_dictionary)\n"
   ]
  },
  {
   "cell_type": "code",
   "execution_count": 62,
   "id": "74754b91",
   "metadata": {},
   "outputs": [
    {
     "name": "stdout",
     "output_type": "stream",
     "text": [
      "All Sentences Word Dictionary\n",
      "\n",
      "defaultdict(<class 'float'>, {'This': 2.0, 'is': 4.0, 'a': 1.0, 'sample': 1.0, 'sentence': 2.0, 'where': 1.0, 'the': 3.0, 'word': 3.0, 'car': 2.0, 'repeated': 5.0, 'twice,': 1.0, ',': 4.0, 'and': 1.0, 'people': 3.0, 'three': 1.0, 'times': 1.0, 'are': 2.0, 'there': 1.0, 'any': 1.0, 'other': 2.0, 'words': 3.0, 'twice': 1.0, 'or': 1.0, 'more': 2.0, 'times?': 1.0, 'another': 1.0, 'example': 1.0, 'in': 2.0, 'which': 1.0, 'some': 1.0, 'will': 2.0, 'be': 2.0, 'like': 1.0, 'blue': 2.0, 'repeteaed': 1.0, 'two': 1.0, 'times,': 1.0, 'how': 1.0, 'many': 1.0, 'this': 1.0, 'sentence?': 1.0})\n"
     ]
    }
   ],
   "source": [
    "### Defining a word dictionary of multiple sentences:\n",
    "Sentence_List = (Sentence_1, Sentence_2)\n",
    "\n",
    "All_sentences_dictionary = collections.defaultdict(float)\n",
    "for i in Sentence_List:\n",
    "    for word in i.split():\n",
    "         All_sentences_dictionary[word]+=1\n",
    "            \n",
    "print('All Sentences Word Dictionary')\n",
    "print()\n",
    "print(All_sentences_dictionary)\n"
   ]
  },
  {
   "cell_type": "code",
   "execution_count": 64,
   "id": "a08b9755",
   "metadata": {},
   "outputs": [
    {
     "data": {
      "text/html": [
       "<div>\n",
       "<style scoped>\n",
       "    .dataframe tbody tr th:only-of-type {\n",
       "        vertical-align: middle;\n",
       "    }\n",
       "\n",
       "    .dataframe tbody tr th {\n",
       "        vertical-align: top;\n",
       "    }\n",
       "\n",
       "    .dataframe thead th {\n",
       "        text-align: right;\n",
       "    }\n",
       "</style>\n",
       "<table border=\"1\" class=\"dataframe\">\n",
       "  <thead>\n",
       "    <tr style=\"text-align: right;\">\n",
       "      <th></th>\n",
       "      <th>Word Count</th>\n",
       "    </tr>\n",
       "  </thead>\n",
       "  <tbody>\n",
       "    <tr>\n",
       "      <th>repeated</th>\n",
       "      <td>5.0</td>\n",
       "    </tr>\n",
       "    <tr>\n",
       "      <th>is</th>\n",
       "      <td>4.0</td>\n",
       "    </tr>\n",
       "    <tr>\n",
       "      <th>,</th>\n",
       "      <td>4.0</td>\n",
       "    </tr>\n",
       "    <tr>\n",
       "      <th>words</th>\n",
       "      <td>3.0</td>\n",
       "    </tr>\n",
       "    <tr>\n",
       "      <th>the</th>\n",
       "      <td>3.0</td>\n",
       "    </tr>\n",
       "    <tr>\n",
       "      <th>word</th>\n",
       "      <td>3.0</td>\n",
       "    </tr>\n",
       "    <tr>\n",
       "      <th>people</th>\n",
       "      <td>3.0</td>\n",
       "    </tr>\n",
       "    <tr>\n",
       "      <th>are</th>\n",
       "      <td>2.0</td>\n",
       "    </tr>\n",
       "    <tr>\n",
       "      <th>blue</th>\n",
       "      <td>2.0</td>\n",
       "    </tr>\n",
       "    <tr>\n",
       "      <th>be</th>\n",
       "      <td>2.0</td>\n",
       "    </tr>\n",
       "    <tr>\n",
       "      <th>will</th>\n",
       "      <td>2.0</td>\n",
       "    </tr>\n",
       "    <tr>\n",
       "      <th>in</th>\n",
       "      <td>2.0</td>\n",
       "    </tr>\n",
       "    <tr>\n",
       "      <th>more</th>\n",
       "      <td>2.0</td>\n",
       "    </tr>\n",
       "    <tr>\n",
       "      <th>other</th>\n",
       "      <td>2.0</td>\n",
       "    </tr>\n",
       "    <tr>\n",
       "      <th>This</th>\n",
       "      <td>2.0</td>\n",
       "    </tr>\n",
       "    <tr>\n",
       "      <th>car</th>\n",
       "      <td>2.0</td>\n",
       "    </tr>\n",
       "    <tr>\n",
       "      <th>sentence</th>\n",
       "      <td>2.0</td>\n",
       "    </tr>\n",
       "    <tr>\n",
       "      <th>times</th>\n",
       "      <td>1.0</td>\n",
       "    </tr>\n",
       "    <tr>\n",
       "      <th>some</th>\n",
       "      <td>1.0</td>\n",
       "    </tr>\n",
       "    <tr>\n",
       "      <th>this</th>\n",
       "      <td>1.0</td>\n",
       "    </tr>\n",
       "    <tr>\n",
       "      <th>many</th>\n",
       "      <td>1.0</td>\n",
       "    </tr>\n",
       "    <tr>\n",
       "      <th>how</th>\n",
       "      <td>1.0</td>\n",
       "    </tr>\n",
       "    <tr>\n",
       "      <th>times,</th>\n",
       "      <td>1.0</td>\n",
       "    </tr>\n",
       "    <tr>\n",
       "      <th>two</th>\n",
       "      <td>1.0</td>\n",
       "    </tr>\n",
       "    <tr>\n",
       "      <th>repeteaed</th>\n",
       "      <td>1.0</td>\n",
       "    </tr>\n",
       "    <tr>\n",
       "      <th>a</th>\n",
       "      <td>1.0</td>\n",
       "    </tr>\n",
       "    <tr>\n",
       "      <th>like</th>\n",
       "      <td>1.0</td>\n",
       "    </tr>\n",
       "    <tr>\n",
       "      <th>sample</th>\n",
       "      <td>1.0</td>\n",
       "    </tr>\n",
       "    <tr>\n",
       "      <th>which</th>\n",
       "      <td>1.0</td>\n",
       "    </tr>\n",
       "    <tr>\n",
       "      <th>three</th>\n",
       "      <td>1.0</td>\n",
       "    </tr>\n",
       "    <tr>\n",
       "      <th>where</th>\n",
       "      <td>1.0</td>\n",
       "    </tr>\n",
       "    <tr>\n",
       "      <th>example</th>\n",
       "      <td>1.0</td>\n",
       "    </tr>\n",
       "    <tr>\n",
       "      <th>another</th>\n",
       "      <td>1.0</td>\n",
       "    </tr>\n",
       "    <tr>\n",
       "      <th>times?</th>\n",
       "      <td>1.0</td>\n",
       "    </tr>\n",
       "    <tr>\n",
       "      <th>or</th>\n",
       "      <td>1.0</td>\n",
       "    </tr>\n",
       "    <tr>\n",
       "      <th>twice</th>\n",
       "      <td>1.0</td>\n",
       "    </tr>\n",
       "    <tr>\n",
       "      <th>twice,</th>\n",
       "      <td>1.0</td>\n",
       "    </tr>\n",
       "    <tr>\n",
       "      <th>and</th>\n",
       "      <td>1.0</td>\n",
       "    </tr>\n",
       "    <tr>\n",
       "      <th>any</th>\n",
       "      <td>1.0</td>\n",
       "    </tr>\n",
       "    <tr>\n",
       "      <th>there</th>\n",
       "      <td>1.0</td>\n",
       "    </tr>\n",
       "    <tr>\n",
       "      <th>sentence?</th>\n",
       "      <td>1.0</td>\n",
       "    </tr>\n",
       "  </tbody>\n",
       "</table>\n",
       "</div>"
      ],
      "text/plain": [
       "           Word Count\n",
       "repeated          5.0\n",
       "is                4.0\n",
       ",                 4.0\n",
       "words             3.0\n",
       "the               3.0\n",
       "word              3.0\n",
       "people            3.0\n",
       "are               2.0\n",
       "blue              2.0\n",
       "be                2.0\n",
       "will              2.0\n",
       "in                2.0\n",
       "more              2.0\n",
       "other             2.0\n",
       "This              2.0\n",
       "car               2.0\n",
       "sentence          2.0\n",
       "times             1.0\n",
       "some              1.0\n",
       "this              1.0\n",
       "many              1.0\n",
       "how               1.0\n",
       "times,            1.0\n",
       "two               1.0\n",
       "repeteaed         1.0\n",
       "a                 1.0\n",
       "like              1.0\n",
       "sample            1.0\n",
       "which             1.0\n",
       "three             1.0\n",
       "where             1.0\n",
       "example           1.0\n",
       "another           1.0\n",
       "times?            1.0\n",
       "or                1.0\n",
       "twice             1.0\n",
       "twice,            1.0\n",
       "and               1.0\n",
       "any               1.0\n",
       "there             1.0\n",
       "sentence?         1.0"
      ]
     },
     "execution_count": 64,
     "metadata": {},
     "output_type": "execute_result"
    }
   ],
   "source": [
    "All_sentences_dictionary_df = pd.DataFrame(All_sentences_dictionary, index = ['Word Count'])\n",
    "All_sentences_dictionary_df.T.sort_values('Word Count', ascending=False)"
   ]
  },
  {
   "cell_type": "markdown",
   "id": "15205867",
   "metadata": {},
   "source": [
    "###    <Center>  Feature Vector , Weight Vector, Gradient descent and Stochastic Gradient descent   </Center> \n",
    "***\n",
    "\n",
    "<br>"
   ]
  },
  {
   "cell_type": "code",
   "execution_count": null,
   "id": "45c590c8",
   "metadata": {},
   "outputs": [],
   "source": [
    "def dotProduct(d1, d2):\n",
    "    if len(d1) < len(d2):\n",
    "        return dotProduct(d2, d1)\n",
    "    else:\n",
    "        return sum(d1.get(f, 0) * v for f, v in list(d2.items()))"
   ]
  },
  {
   "cell_type": "code",
   "execution_count": null,
   "id": "40071f83",
   "metadata": {},
   "outputs": [],
   "source": [
    "vector_1 = {'feature 1': 1 , 'feature 2': 3 , 'feature 3': 3 , 'feature 4': 3 , 'feature 5': 3 }\n",
    "vector_2 = {'feature 1':5 , 'feature 2': 0 , 'feature 3': 4, 'feature 4': 0 , 'feature 5': 3 }"
   ]
  },
  {
   "cell_type": "code",
   "execution_count": null,
   "id": "edf382c0",
   "metadata": {},
   "outputs": [],
   "source": [
    "def increment(d1, scale, d2):\n",
    "    for f, v in list(d2.items()):\n",
    "        d1[f] = d1.get(f, 0) + v * scale\n"
   ]
  },
  {
   "cell_type": "code",
   "execution_count": null,
   "id": "d76ca527",
   "metadata": {},
   "outputs": [],
   "source": [
    "points = [(2, 4), (4, 2)]\n",
    "\n",
    "def F(w):\n",
    "    return sum((w * x - y)**2 for x, y in points)\n",
    "\n",
    "def dF(w):\n",
    "    return sum(2*(w * x - y) * x for x, y in points)\n",
    "\n",
    "# Gradient descent\n",
    "w = 0\n",
    "eta = 0.01\n",
    "for t in range(100):\n",
    "    value = F(w)\n",
    "    gradient = dF(w)\n",
    "    w = w - eta * gradient\n",
    "    print('iteration {}: w = {}, F(w) = {}'.format(t, w, value))\n"
   ]
  },
  {
   "cell_type": "code",
   "execution_count": null,
   "id": "73dfc2d5",
   "metadata": {},
   "outputs": [],
   "source": [
    "points = [(np.array([2]), 4), (np.array([4]), 2)]\n",
    "d = 1\n",
    "true_w = np.array([1, 2, 3, 4, 5])  \n",
    "d = len(true_w)\n",
    "points = []\n",
    "for i in range(500000):\n",
    "    x = np.random.randn(d)\n",
    "    y = true_w.dot(x) + np.random.randn()\n",
    "    #print(x, y)\n",
    "    points.append((x, y))\n",
    "\n",
    "# For gradient descent\n",
    "def F(w):\n",
    "    return sum((w.dot(x) - y)**2 for x, y in points) / len(points)\n",
    "\n",
    "def dF(w):\n",
    "    return sum(2*(w.dot(x) - y) * x for x, y in points) / len(points)\n",
    "\n",
    "# For stochastic gradient descent\n",
    "def sF(w, i):\n",
    "    x, y = points[i]\n",
    "    return (w.dot(x) - y)**2\n",
    "\n",
    "def sdF(w, i):\n",
    "    x, y = points[i]\n",
    "    return 2*(w.dot(x) - y) * x"
   ]
  },
  {
   "cell_type": "code",
   "execution_count": null,
   "id": "06bc3ce2",
   "metadata": {},
   "outputs": [],
   "source": [
    "\n",
    "def gradientDescent(F, dF, d):\n",
    "    w = np.zeros(d)\n",
    "    eta = 0.01\n",
    "    for t in range(1000):\n",
    "        value = F(w)\n",
    "        gradient = dF(w)\n",
    "        w = w - eta * gradient\n",
    "        print('iteration {}: w = {}, F(w) = {}'.format(t, w, value))\n",
    "\n",
    "def stochasticGradientDescent(sF, sdF, d, n):\n",
    "    # Gradient descent\n",
    "    w = np.zeros(d)\n",
    "    eta = 1\n",
    "    numUpdates = 0\n",
    "    for t in range(1000):\n",
    "        for i in range(n):  # For each data point...\n",
    "            value = sF(w, i)\n",
    "            gradient = sdF(w, i)\n",
    "            numUpdates += 1\n",
    "            eta = 1.0 / numUpdates  # Remember to do 1.0 instead of 1!\n",
    "            w = w - eta * gradient\n",
    "        print('iteration {}: w = {}, F(w) = {}'.format(t, w, value))\n",
    "\n",
    "#gradientDescent(F, dF, d)\n",
    "stochasticGradientDescent(sF, sdF, d, len(points))"
   ]
  },
  {
   "cell_type": "code",
   "execution_count": null,
   "id": "f48da41f",
   "metadata": {},
   "outputs": [],
   "source": [
    "def learnPredictor(trainExamples, testExamples, featureExtractor, numIters, eta):\n",
    "     \n",
    "    weights = {}  \n",
    "     \n",
    "    def predictor(x):\n",
    "        return 1 if dotProduct(weights, featureExtractor(x)) > 0 else -1\n",
    "\n",
    "    for x, y in trainExamples:\n",
    "        for feature in featureExtractor(x):\n",
    "            weights[feature] = 0\n",
    "    for i in range(numIters):\n",
    "        for x, y in trainExamples:\n",
    "            if dotProduct(weights, featureExtractor(x)) * y < 1:\n",
    "                increment(weights, eta * y, featureExtractor(x))\n",
    "         \n",
    "    return weights"
   ]
  },
  {
   "cell_type": "markdown",
   "id": "5007b263",
   "metadata": {},
   "source": [
    "<h1><center>3. Methodology</center></h1>\n",
    "     <br>     <br>\n",
    "    "
   ]
  },
  {
   "cell_type": "markdown",
   "id": "9af70848",
   "metadata": {},
   "source": [
    "<h1><center>4.Implementation</center></h1>"
   ]
  }
 ],
 "metadata": {
  "kernelspec": {
   "display_name": "Python 3",
   "language": "python",
   "name": "python3"
  },
  "language_info": {
   "codemirror_mode": {
    "name": "ipython",
    "version": 3
   },
   "file_extension": ".py",
   "mimetype": "text/x-python",
   "name": "python",
   "nbconvert_exporter": "python",
   "pygments_lexer": "ipython3",
   "version": "3.8.8"
  }
 },
 "nbformat": 4,
 "nbformat_minor": 5
}

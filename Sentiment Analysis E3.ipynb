{
 "cells": [
  {
   "cell_type": "markdown",
   "id": "d21d6fdb",
   "metadata": {},
   "source": [
    "<h1><center>Sentiment Analysis - Understanding Binary Linear Classifiers </center></h1>\n",
    "<h1><center>Understanding how a sentiment analysis algorithm works</center></h1>\n",
    "<h1><center>Rodrigo Medina </center></h1>\n",
    "<h1><center>Based in Materials from Stanford Course <br><br> XCS221  Artificial Intelligence</center>\n",
    "<h1><center>November 2022</center></h1>\n",
    "<br>\n"
   ]
  },
  {
   "cell_type": "markdown",
   "id": "35a0edf1",
   "metadata": {},
   "source": [
    "# Index\n"
   ]
  },
  {
   "cell_type": "markdown",
   "id": "ff65cd2c",
   "metadata": {},
   "source": [
    "### 1.Intro\n",
    "***\n",
    "\n",
    "### 2.Methodology\n",
    "***\n",
    "\n",
    "### 3.Implementation\n",
    "***\n",
    "\n"
   ]
  },
  {
   "cell_type": "markdown",
   "id": "6a80132f",
   "metadata": {},
   "source": [
    "<h1><center> 1. Intro</center></h1>\n",
    "\n",
    "<h2><center>Role of Binary classifiers in Sentiment Analysis Algorithms</center></h2>\n",
    "<br>\n",
    "      <br>"
   ]
  },
  {
   "cell_type": "markdown",
   "id": "5007b263",
   "metadata": {},
   "source": [
    "<h1><center>2. Methodology</center></h1>\n",
    "     <br>     <br>\n",
    "    "
   ]
  },
  {
   "cell_type": "markdown",
   "id": "83fab7c3",
   "metadata": {},
   "source": [
    "<left> This project will explain the process of building a binary linear classier that reads movie reviews and guesses whether they are positive or negative. This approach will build the model from zero in order to understand how it works, the model will not use libraries like Scikit-learn. <br> </left>\n",
    "   <br>\n",
    "      <br>\n",
    "<left>The goal is to understand the funcitons that make the binary classifier algorithm work, to be more specific how is the weight vector adjusted iteration by iteration in order to minimize the loss function using gradient descent and sthocastic gradient descent<br>  <br> </left>\n",
    "\n",
    "<left>The increment function does the above mentioned process but does it change all weights by the same scale or it adjusts each weight individually?<br> </left>\n",
    "\n"
   ]
  },
  {
   "cell_type": "markdown",
   "id": "9af70848",
   "metadata": {},
   "source": [
    "<h1><center>3.Implementation</center></h1>"
   ]
  },
  {
   "cell_type": "markdown",
   "id": "e7cbeb36",
   "metadata": {},
   "source": [
    "###    <Center> Package Loading and Initial Configurations   </Center> \n",
    "***\n",
    "\n",
    "<br>"
   ]
  },
  {
   "cell_type": "code",
   "execution_count": 6,
   "id": "aad5076d",
   "metadata": {
    "scrolled": true
   },
   "outputs": [],
   "source": [
    "import random\n",
    "import collections\n",
    "import math\n",
    "import sys"
   ]
  },
  {
   "cell_type": "markdown",
   "id": "c91c0672",
   "metadata": {},
   "source": [
    "###    <Center>  Understanding the Extract word features function  </Center> \n",
    "***\n",
    "\n",
    "<br>"
   ]
  },
  {
   "cell_type": "code",
   "execution_count": 3,
   "id": "d814d1cd",
   "metadata": {},
   "outputs": [],
   "source": [
    "def extractWordFeatures(x):\n",
    "    features = collections.defaultdict(int)\n",
    "    for word in x.split():\n",
    "        features[word] += 1\n",
    "    return features\n",
    "    "
   ]
  },
  {
   "cell_type": "code",
   "execution_count": 15,
   "id": "b21fe3f1",
   "metadata": {},
   "outputs": [],
   "source": [
    "Sentence_1 = 'This is a sample sentence where the word car is repeated twice, car , and the word people is repeated three times people , people are there any other words repeated twice or more times?'"
   ]
  },
  {
   "cell_type": "code",
   "execution_count": 16,
   "id": "5133cbc7",
   "metadata": {},
   "outputs": [
    {
     "name": "stdout",
     "output_type": "stream",
     "text": [
      "This is a sample sentence where the word car is repeated twice, car , and the word people is repeated three times people , people are there any other words repeated twice or more times?\n"
     ]
    }
   ],
   "source": [
    "print(Sentence_1)"
   ]
  },
  {
   "cell_type": "code",
   "execution_count": 17,
   "id": "96c42c41",
   "metadata": {},
   "outputs": [
    {
     "data": {
      "text/plain": [
       "defaultdict(int,\n",
       "            {'This': 1,\n",
       "             'is': 3,\n",
       "             'a': 1,\n",
       "             'sample': 1,\n",
       "             'sentence': 1,\n",
       "             'where': 1,\n",
       "             'the': 2,\n",
       "             'word': 2,\n",
       "             'car': 2,\n",
       "             'repeated': 3,\n",
       "             'twice,': 1,\n",
       "             ',': 2,\n",
       "             'and': 1,\n",
       "             'people': 3,\n",
       "             'three': 1,\n",
       "             'times': 1,\n",
       "             'are': 1,\n",
       "             'there': 1,\n",
       "             'any': 1,\n",
       "             'other': 1,\n",
       "             'words': 1,\n",
       "             'twice': 1,\n",
       "             'or': 1,\n",
       "             'more': 1,\n",
       "             'times?': 1})"
      ]
     },
     "execution_count": 17,
     "metadata": {},
     "output_type": "execute_result"
    }
   ],
   "source": [
    "Sentence1dict = extractWordFeatures(Sentence_1)\n",
    "Sentence1dict"
   ]
  },
  {
   "cell_type": "markdown",
   "id": "15205867",
   "metadata": {},
   "source": [
    "###    <Center>  Feature Vector , Weight Vector and Stochastic Gradient descent   </Center> \n",
    "***\n",
    "\n",
    "<br>"
   ]
  },
  {
   "cell_type": "code",
   "execution_count": null,
   "id": "d76ca527",
   "metadata": {},
   "outputs": [],
   "source": [
    "points = [(2, 4), (4, 2)]\n",
    "\n",
    "def F(w):\n",
    "    return sum((w * x - y)**2 for x, y in points)\n",
    "\n",
    "def dF(w):\n",
    "    return sum(2*(w * x - y) * x for x, y in points)\n",
    "\n",
    "# Gradient descent\n",
    "w = 0\n",
    "eta = 0.01\n",
    "for t in range(100):\n",
    "    value = F(w)\n",
    "    gradient = dF(w)\n",
    "    w = w - eta * gradient\n",
    "    print('iteration {}: w = {}, F(w) = {}'.format(t, w, value))\n"
   ]
  },
  {
   "cell_type": "code",
   "execution_count": null,
   "id": "45c590c8",
   "metadata": {},
   "outputs": [],
   "source": [
    "def dotProduct(d1, d2):\n",
    "    if len(d1) < len(d2):\n",
    "        return dotProduct(d2, d1)\n",
    "    else:\n",
    "        return sum(d1.get(f, 0) * v for f, v in list(d2.items()))"
   ]
  },
  {
   "cell_type": "code",
   "execution_count": null,
   "id": "40071f83",
   "metadata": {},
   "outputs": [],
   "source": [
    "vector_1 = {'feature 1': 1 , 'feature 2': 3 , 'feature 3': 3 , 'feature 4': 3 , 'feature 5': 3 }\n",
    "vector_2 = {'feature 1':5 , 'feature 2': 0 , 'feature 3': 4, 'feature 4': 0 , 'feature 5': 3 }"
   ]
  },
  {
   "cell_type": "code",
   "execution_count": null,
   "id": "edf382c0",
   "metadata": {},
   "outputs": [],
   "source": [
    "def increment(d1, scale, d2):\n",
    "    for f, v in list(d2.items()):\n",
    "        d1[f] = d1.get(f, 0) + v * scale\n"
   ]
  },
  {
   "cell_type": "code",
   "execution_count": null,
   "id": "f48da41f",
   "metadata": {},
   "outputs": [],
   "source": [
    "def learnPredictor(trainExamples, testExamples, featureExtractor, numIters, eta):\n",
    "     \n",
    "    weights = {}  \n",
    "     \n",
    "    def predictor(x):\n",
    "        return 1 if dotProduct(weights, featureExtractor(x)) > 0 else -1\n",
    "\n",
    "    for x, y in trainExamples:\n",
    "        for feature in featureExtractor(x):\n",
    "            weights[feature] = 0\n",
    "    for i in range(numIters):\n",
    "        for x, y in trainExamples:\n",
    "            if dotProduct(weights, featureExtractor(x)) * y < 1:\n",
    "                increment(weights, eta * y, featureExtractor(x))\n",
    "         \n",
    "    return weights"
   ]
  }
 ],
 "metadata": {
  "kernelspec": {
   "display_name": "Python 3",
   "language": "python",
   "name": "python3"
  },
  "language_info": {
   "codemirror_mode": {
    "name": "ipython",
    "version": 3
   },
   "file_extension": ".py",
   "mimetype": "text/x-python",
   "name": "python",
   "nbconvert_exporter": "python",
   "pygments_lexer": "ipython3",
   "version": "3.8.8"
  }
 },
 "nbformat": 4,
 "nbformat_minor": 5
}
